{
 "cells": [
  {
   "cell_type": "code",
   "execution_count": 1,
   "id": "106dc8bc",
   "metadata": {},
   "outputs": [
    {
     "name": "stderr",
     "output_type": "stream",
     "text": [
      "YOLOv5  2022-12-1 Python-3.8.8 torch-1.9.0+cpu CPU\n",
      "\n",
      "Fusing layers... \n",
      "Model summary: 157 layers, 7012822 parameters, 0 gradients\n",
      "Adding AutoShape... \n"
     ]
    }
   ],
   "source": [
    "import torch\n",
    "import cv2\n",
    "model = torch.hub.load('C:/Users/91628/Documents/o2i/yolov5/yolov5-master', 'custom', path='C:/Users/91628/Documents/o2i/yolov5/yolov5-master/last.pt', source='local') "
   ]
  },
  {
   "cell_type": "code",
   "execution_count": 2,
   "id": "63307860",
   "metadata": {},
   "outputs": [
    {
     "name": "stdout",
     "output_type": "stream",
     "text": [
      "1.9.0+cpu\n"
     ]
    }
   ],
   "source": [
    "print(torch.__version__)"
   ]
  },
  {
   "cell_type": "code",
   "execution_count": 3,
   "id": "0fc5f192",
   "metadata": {},
   "outputs": [],
   "source": [
    "# Image\n",
    "img = 'istockphoto-911190112-612x612.jpg'"
   ]
  },
  {
   "cell_type": "code",
   "execution_count": 4,
   "id": "abdabb81",
   "metadata": {},
   "outputs": [],
   "source": [
    "# Inference\n",
    "results = model(img)\n",
    "# Results, change the flowing to: results.show()\n",
    "#results.show()  # or .show(), .save(), .crop(), .pandas(), etc"
   ]
  },
  {
   "cell_type": "code",
   "execution_count": 5,
   "id": "b7374a3b",
   "metadata": {},
   "outputs": [],
   "source": [
    "import numpy as np\n",
    "cv2.imshow('frame', np.squeeze(np.array(results.render())))\n",
    "cv2.waitKey(0)\n",
    "cv2.destroyAllWindows()"
   ]
  },
  {
   "cell_type": "markdown",
   "id": "34eede77",
   "metadata": {},
   "source": [
    "# Real time "
   ]
  },
  {
   "cell_type": "code",
   "execution_count": 6,
   "id": "ad78579c",
   "metadata": {},
   "outputs": [
    {
     "name": "stderr",
     "output_type": "stream",
     "text": [
      "YOLOv5  2022-12-1 Python-3.8.8 torch-1.9.0+cpu CPU\n",
      "\n",
      "Fusing layers... \n",
      "Model summary: 157 layers, 7012822 parameters, 0 gradients\n",
      "Adding AutoShape... \n"
     ]
    }
   ],
   "source": [
    "import torch\n",
    "import cv2\n",
    "import numpy as np\n",
    "model = torch.hub.load('C:/Users/91628/Documents/o2i/yolov5/yolov5-master', 'custom',\n",
    "                       path='C:/Users/91628/Documents/o2i/yolov5/yolov5-master/last2.pt', source='local')\n",
    "\n",
    "# define a video capture object\n",
    "vid = cv2.VideoCapture(0)\n",
    "\n",
    "while(True):\n",
    "\n",
    "\t# Capture the video frame\n",
    "    # by frame\n",
    "    ret, frame = vid.read()\n",
    "\n",
    "    # Display the resulting frame\n",
    "\n",
    "    results = model(frame)\n",
    "    cv2.imshow('frame', np.squeeze(np.array(results.render())))\n",
    "\n",
    "    # the 'q' button is set as the\n",
    "    # quitting button you may use any\n",
    "    # desired button of your choice\n",
    "    if cv2.waitKey(1) & 0xFF == ord('q'):\n",
    "        break\n",
    "\n",
    "# After the loop release the cap object\n",
    "vid.release()\n",
    "# Destroy all the windows\n",
    "cv2.destroyAllWindows()"
   ]
  }
 ],
 "metadata": {
  "kernelspec": {
   "display_name": "Python 3",
   "language": "python",
   "name": "python3"
  },
  "language_info": {
   "codemirror_mode": {
    "name": "ipython",
    "version": 3
   },
   "file_extension": ".py",
   "mimetype": "text/x-python",
   "name": "python",
   "nbconvert_exporter": "python",
   "pygments_lexer": "ipython3",
   "version": "3.8.8"
  }
 },
 "nbformat": 4,
 "nbformat_minor": 5
}
